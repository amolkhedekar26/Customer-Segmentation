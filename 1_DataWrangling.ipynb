{
 "cells": [
  {
   "cell_type": "markdown",
   "id": "beautiful-gabriel",
   "metadata": {},
   "source": [
    "# Customer Segmentation"
   ]
  },
  {
   "cell_type": "markdown",
   "id": "informed-extra",
   "metadata": {},
   "source": [
    "### Data Wrangling"
   ]
  },
  {
   "cell_type": "markdown",
   "id": "oriental-secretariat",
   "metadata": {},
   "source": [
    "### Import required libraries"
   ]
  },
  {
   "cell_type": "code",
   "execution_count": 96,
   "id": "trying-saudi",
   "metadata": {
    "ExecuteTime": {
     "end_time": "2021-06-25T08:07:31.614458Z",
     "start_time": "2021-06-25T08:07:31.604722Z"
    }
   },
   "outputs": [],
   "source": [
    "import pandas as pd\n",
    "import numpy as np\n",
    "import matplotlib.pyplot as plt\n",
    "import seaborn as sns\n",
    "\n",
    "# ignore warnings\n",
    "import warnings\n",
    "warnings.filterwarnings('ignore')\n",
    "\n",
    "%matplotlib inline\n",
    "plt.rcParams.update({'figure.figsize': (7, 5), 'figure.dpi': 100})\n",
    "sns.set_style(\"whitegrid\")\n",
    "sns.set()"
   ]
  },
  {
   "cell_type": "markdown",
   "id": "stuck-disposal",
   "metadata": {},
   "source": [
    "### Read csv and load data"
   ]
  },
  {
   "cell_type": "code",
   "execution_count": 97,
   "id": "committed-assembly",
   "metadata": {
    "ExecuteTime": {
     "end_time": "2021-06-25T08:07:32.441082Z",
     "start_time": "2021-06-25T08:07:31.616753Z"
    }
   },
   "outputs": [
    {
     "data": {
      "text/html": [
       "<div>\n",
       "<style scoped>\n",
       "    .dataframe tbody tr th:only-of-type {\n",
       "        vertical-align: middle;\n",
       "    }\n",
       "\n",
       "    .dataframe tbody tr th {\n",
       "        vertical-align: top;\n",
       "    }\n",
       "\n",
       "    .dataframe thead th {\n",
       "        text-align: right;\n",
       "    }\n",
       "</style>\n",
       "<table border=\"1\" class=\"dataframe\">\n",
       "  <thead>\n",
       "    <tr style=\"text-align: right;\">\n",
       "      <th></th>\n",
       "      <th>Invoice</th>\n",
       "      <th>StockCode</th>\n",
       "      <th>Description</th>\n",
       "      <th>Quantity</th>\n",
       "      <th>InvoiceDate</th>\n",
       "      <th>Price</th>\n",
       "      <th>Customer ID</th>\n",
       "      <th>Country</th>\n",
       "    </tr>\n",
       "  </thead>\n",
       "  <tbody>\n",
       "    <tr>\n",
       "      <th>0</th>\n",
       "      <td>536365</td>\n",
       "      <td>85123A</td>\n",
       "      <td>WHITE HANGING HEART T-LIGHT HOLDER</td>\n",
       "      <td>6</td>\n",
       "      <td>01/12/10 08:26</td>\n",
       "      <td>2.55</td>\n",
       "      <td>17850.0</td>\n",
       "      <td>United Kingdom</td>\n",
       "    </tr>\n",
       "    <tr>\n",
       "      <th>1</th>\n",
       "      <td>536365</td>\n",
       "      <td>71053</td>\n",
       "      <td>WHITE METAL LANTERN</td>\n",
       "      <td>6</td>\n",
       "      <td>01/12/10 08:26</td>\n",
       "      <td>3.39</td>\n",
       "      <td>17850.0</td>\n",
       "      <td>United Kingdom</td>\n",
       "    </tr>\n",
       "    <tr>\n",
       "      <th>2</th>\n",
       "      <td>536365</td>\n",
       "      <td>84406B</td>\n",
       "      <td>CREAM CUPID HEARTS COAT HANGER</td>\n",
       "      <td>8</td>\n",
       "      <td>01/12/10 08:26</td>\n",
       "      <td>2.75</td>\n",
       "      <td>17850.0</td>\n",
       "      <td>United Kingdom</td>\n",
       "    </tr>\n",
       "    <tr>\n",
       "      <th>3</th>\n",
       "      <td>536365</td>\n",
       "      <td>84029G</td>\n",
       "      <td>KNITTED UNION FLAG HOT WATER BOTTLE</td>\n",
       "      <td>6</td>\n",
       "      <td>01/12/10 08:26</td>\n",
       "      <td>3.39</td>\n",
       "      <td>17850.0</td>\n",
       "      <td>United Kingdom</td>\n",
       "    </tr>\n",
       "    <tr>\n",
       "      <th>4</th>\n",
       "      <td>536365</td>\n",
       "      <td>84029E</td>\n",
       "      <td>RED WOOLLY HOTTIE WHITE HEART.</td>\n",
       "      <td>6</td>\n",
       "      <td>01/12/10 08:26</td>\n",
       "      <td>3.39</td>\n",
       "      <td>17850.0</td>\n",
       "      <td>United Kingdom</td>\n",
       "    </tr>\n",
       "  </tbody>\n",
       "</table>\n",
       "</div>"
      ],
      "text/plain": [
       "  Invoice StockCode                          Description  Quantity  \\\n",
       "0  536365    85123A   WHITE HANGING HEART T-LIGHT HOLDER         6   \n",
       "1  536365     71053                  WHITE METAL LANTERN         6   \n",
       "2  536365    84406B       CREAM CUPID HEARTS COAT HANGER         8   \n",
       "3  536365    84029G  KNITTED UNION FLAG HOT WATER BOTTLE         6   \n",
       "4  536365    84029E       RED WOOLLY HOTTIE WHITE HEART.         6   \n",
       "\n",
       "      InvoiceDate  Price  Customer ID         Country  \n",
       "0  01/12/10 08:26   2.55      17850.0  United Kingdom  \n",
       "1  01/12/10 08:26   3.39      17850.0  United Kingdom  \n",
       "2  01/12/10 08:26   2.75      17850.0  United Kingdom  \n",
       "3  01/12/10 08:26   3.39      17850.0  United Kingdom  \n",
       "4  01/12/10 08:26   3.39      17850.0  United Kingdom  "
      ]
     },
     "execution_count": 97,
     "metadata": {},
     "output_type": "execute_result"
    }
   ],
   "source": [
    "df = pd.read_csv(\"online_retail_II.csv\")\n",
    "df.head()"
   ]
  },
  {
   "cell_type": "markdown",
   "id": "handed-trace",
   "metadata": {
    "ExecuteTime": {
     "end_time": "2021-06-20T14:30:10.540833Z",
     "start_time": "2021-06-20T14:30:10.537210Z"
    }
   },
   "source": [
    "### Get some information about data \n",
    "### i.e column names , thier data types , number of records"
   ]
  },
  {
   "cell_type": "code",
   "execution_count": 98,
   "id": "correct-monroe",
   "metadata": {
    "ExecuteTime": {
     "end_time": "2021-06-25T08:07:32.603617Z",
     "start_time": "2021-06-25T08:07:32.444811Z"
    }
   },
   "outputs": [
    {
     "name": "stdout",
     "output_type": "stream",
     "text": [
      "<class 'pandas.core.frame.DataFrame'>\n",
      "RangeIndex: 541910 entries, 0 to 541909\n",
      "Data columns (total 8 columns):\n",
      " #   Column       Non-Null Count   Dtype  \n",
      "---  ------       --------------   -----  \n",
      " 0   Invoice      541910 non-null  object \n",
      " 1   StockCode    541910 non-null  object \n",
      " 2   Description  540456 non-null  object \n",
      " 3   Quantity     541910 non-null  int64  \n",
      " 4   InvoiceDate  541910 non-null  object \n",
      " 5   Price        541910 non-null  float64\n",
      " 6   Customer ID  406830 non-null  float64\n",
      " 7   Country      541910 non-null  object \n",
      "dtypes: float64(2), int64(1), object(5)\n",
      "memory usage: 33.1+ MB\n"
     ]
    }
   ],
   "source": [
    "df.info()"
   ]
  },
  {
   "cell_type": "markdown",
   "id": "minor-matthew",
   "metadata": {},
   "source": [
    "### Get shape of dataframe"
   ]
  },
  {
   "cell_type": "code",
   "execution_count": 99,
   "id": "affecting-animal",
   "metadata": {
    "ExecuteTime": {
     "end_time": "2021-06-25T08:07:32.687745Z",
     "start_time": "2021-06-25T08:07:32.606036Z"
    }
   },
   "outputs": [
    {
     "name": "stdout",
     "output_type": "stream",
     "text": [
      "Rows : 541910\n",
      "Columns : 8\n"
     ]
    }
   ],
   "source": [
    "features = [\"Invoice\", \"StockCode\", \"Description\", \"Quantity\",\n",
    "            \"InvoiceDate\", \"Price\", \"Customer ID\", \"Country\"]\n",
    "\n",
    "rows, cols = df.shape\n",
    "print(\"Rows :\", rows)\n",
    "print(\"Columns :\", cols)"
   ]
  },
  {
   "cell_type": "markdown",
   "id": "paperback-combining",
   "metadata": {},
   "source": [
    "# 1. Data Preprocessing"
   ]
  },
  {
   "cell_type": "markdown",
   "id": "narrative-battle",
   "metadata": {},
   "source": [
    "### Lets find and handle missing values"
   ]
  },
  {
   "cell_type": "code",
   "execution_count": 100,
   "id": "streaming-baghdad",
   "metadata": {
    "ExecuteTime": {
     "end_time": "2021-06-25T08:07:33.191155Z",
     "start_time": "2021-06-25T08:07:32.690250Z"
    }
   },
   "outputs": [
    {
     "data": {
      "text/html": [
       "<style  type=\"text/css\" >\n",
       "#T_164d6_row0_col0,#T_164d6_row0_col1{\n",
       "            background-color:  #08306b;\n",
       "            color:  #f1f1f1;\n",
       "        }#T_164d6_row1_col0,#T_164d6_row1_col1{\n",
       "            background-color:  #f5fafe;\n",
       "            color:  #000000;\n",
       "        }#T_164d6_row2_col0,#T_164d6_row2_col1,#T_164d6_row3_col0,#T_164d6_row3_col1,#T_164d6_row4_col0,#T_164d6_row4_col1,#T_164d6_row5_col0,#T_164d6_row5_col1,#T_164d6_row6_col0,#T_164d6_row6_col1,#T_164d6_row7_col0,#T_164d6_row7_col1{\n",
       "            background-color:  #f7fbff;\n",
       "            color:  #000000;\n",
       "        }</style><table id=\"T_164d6_\" ><thead>    <tr>        <th class=\"blank level0\" ></th>        <th class=\"col_heading level0 col0\" >Total</th>        <th class=\"col_heading level0 col1\" >Percent (%)</th>    </tr></thead><tbody>\n",
       "                <tr>\n",
       "                        <th id=\"T_164d6_level0_row0\" class=\"row_heading level0 row0\" >Customer ID</th>\n",
       "                        <td id=\"T_164d6_row0_col0\" class=\"data row0 col0\" >135080</td>\n",
       "                        <td id=\"T_164d6_row0_col1\" class=\"data row0 col1\" >24.926648</td>\n",
       "            </tr>\n",
       "            <tr>\n",
       "                        <th id=\"T_164d6_level0_row1\" class=\"row_heading level0 row1\" >Description</th>\n",
       "                        <td id=\"T_164d6_row1_col0\" class=\"data row1 col0\" >1454</td>\n",
       "                        <td id=\"T_164d6_row1_col1\" class=\"data row1 col1\" >0.268310</td>\n",
       "            </tr>\n",
       "            <tr>\n",
       "                        <th id=\"T_164d6_level0_row2\" class=\"row_heading level0 row2\" >Invoice</th>\n",
       "                        <td id=\"T_164d6_row2_col0\" class=\"data row2 col0\" >0</td>\n",
       "                        <td id=\"T_164d6_row2_col1\" class=\"data row2 col1\" >0.000000</td>\n",
       "            </tr>\n",
       "            <tr>\n",
       "                        <th id=\"T_164d6_level0_row3\" class=\"row_heading level0 row3\" >StockCode</th>\n",
       "                        <td id=\"T_164d6_row3_col0\" class=\"data row3 col0\" >0</td>\n",
       "                        <td id=\"T_164d6_row3_col1\" class=\"data row3 col1\" >0.000000</td>\n",
       "            </tr>\n",
       "            <tr>\n",
       "                        <th id=\"T_164d6_level0_row4\" class=\"row_heading level0 row4\" >Quantity</th>\n",
       "                        <td id=\"T_164d6_row4_col0\" class=\"data row4 col0\" >0</td>\n",
       "                        <td id=\"T_164d6_row4_col1\" class=\"data row4 col1\" >0.000000</td>\n",
       "            </tr>\n",
       "            <tr>\n",
       "                        <th id=\"T_164d6_level0_row5\" class=\"row_heading level0 row5\" >InvoiceDate</th>\n",
       "                        <td id=\"T_164d6_row5_col0\" class=\"data row5 col0\" >0</td>\n",
       "                        <td id=\"T_164d6_row5_col1\" class=\"data row5 col1\" >0.000000</td>\n",
       "            </tr>\n",
       "            <tr>\n",
       "                        <th id=\"T_164d6_level0_row6\" class=\"row_heading level0 row6\" >Price</th>\n",
       "                        <td id=\"T_164d6_row6_col0\" class=\"data row6 col0\" >0</td>\n",
       "                        <td id=\"T_164d6_row6_col1\" class=\"data row6 col1\" >0.000000</td>\n",
       "            </tr>\n",
       "            <tr>\n",
       "                        <th id=\"T_164d6_level0_row7\" class=\"row_heading level0 row7\" >Country</th>\n",
       "                        <td id=\"T_164d6_row7_col0\" class=\"data row7 col0\" >0</td>\n",
       "                        <td id=\"T_164d6_row7_col1\" class=\"data row7 col1\" >0.000000</td>\n",
       "            </tr>\n",
       "    </tbody></table>"
      ],
      "text/plain": [
       "<pandas.io.formats.style.Styler at 0x7fdad9abca60>"
      ]
     },
     "execution_count": 100,
     "metadata": {},
     "output_type": "execute_result"
    }
   ],
   "source": [
    "# Get missing values\n",
    "def get_missing_data(data):\n",
    "    # Get total number of missing values in each variable\n",
    "    total = data.isnull().sum().sort_values(ascending=False)\n",
    "\n",
    "    # Get percentage of missing values\n",
    "    percent = ((data.isnull().sum()/data.isnull().count())\n",
    "               * 100).sort_values(ascending=False)\n",
    "\n",
    "    # Create dataframe for missing data\n",
    "    missing_data = pd.concat([total, percent], axis=1,\n",
    "                             keys=[\"Total\", \"Percent (%)\"])\n",
    "    return missing_data.style.background_gradient(cmap=\"Blues\")\n",
    "\n",
    "\n",
    "missing_data = get_missing_data(df)\n",
    "missing_data"
   ]
  },
  {
   "cell_type": "markdown",
   "id": "intellectual-green",
   "metadata": {
    "ExecuteTime": {
     "end_time": "2021-06-20T14:57:21.314711Z",
     "start_time": "2021-06-20T14:57:21.312214Z"
    }
   },
   "source": [
    "### Since we have 25% of missing values in Customer ID feature,Lets remove those records, since Customer ID is important feature we cant delete entire column"
   ]
  },
  {
   "cell_type": "code",
   "execution_count": 101,
   "id": "overall-flush",
   "metadata": {
    "ExecuteTime": {
     "end_time": "2021-06-25T08:07:33.691301Z",
     "start_time": "2021-06-25T08:07:33.193977Z"
    }
   },
   "outputs": [
    {
     "data": {
      "text/html": [
       "<style  type=\"text/css\" >\n",
       "#T_a61b1_row0_col0,#T_a61b1_row0_col1,#T_a61b1_row1_col0,#T_a61b1_row1_col1,#T_a61b1_row2_col0,#T_a61b1_row2_col1,#T_a61b1_row3_col0,#T_a61b1_row3_col1,#T_a61b1_row4_col0,#T_a61b1_row4_col1,#T_a61b1_row5_col0,#T_a61b1_row5_col1,#T_a61b1_row6_col0,#T_a61b1_row6_col1,#T_a61b1_row7_col0,#T_a61b1_row7_col1{\n",
       "            background-color:  #f7fbff;\n",
       "            color:  #000000;\n",
       "        }</style><table id=\"T_a61b1_\" ><thead>    <tr>        <th class=\"blank level0\" ></th>        <th class=\"col_heading level0 col0\" >Total</th>        <th class=\"col_heading level0 col1\" >Percent (%)</th>    </tr></thead><tbody>\n",
       "                <tr>\n",
       "                        <th id=\"T_a61b1_level0_row0\" class=\"row_heading level0 row0\" >Invoice</th>\n",
       "                        <td id=\"T_a61b1_row0_col0\" class=\"data row0 col0\" >0</td>\n",
       "                        <td id=\"T_a61b1_row0_col1\" class=\"data row0 col1\" >0.000000</td>\n",
       "            </tr>\n",
       "            <tr>\n",
       "                        <th id=\"T_a61b1_level0_row1\" class=\"row_heading level0 row1\" >StockCode</th>\n",
       "                        <td id=\"T_a61b1_row1_col0\" class=\"data row1 col0\" >0</td>\n",
       "                        <td id=\"T_a61b1_row1_col1\" class=\"data row1 col1\" >0.000000</td>\n",
       "            </tr>\n",
       "            <tr>\n",
       "                        <th id=\"T_a61b1_level0_row2\" class=\"row_heading level0 row2\" >Description</th>\n",
       "                        <td id=\"T_a61b1_row2_col0\" class=\"data row2 col0\" >0</td>\n",
       "                        <td id=\"T_a61b1_row2_col1\" class=\"data row2 col1\" >0.000000</td>\n",
       "            </tr>\n",
       "            <tr>\n",
       "                        <th id=\"T_a61b1_level0_row3\" class=\"row_heading level0 row3\" >Quantity</th>\n",
       "                        <td id=\"T_a61b1_row3_col0\" class=\"data row3 col0\" >0</td>\n",
       "                        <td id=\"T_a61b1_row3_col1\" class=\"data row3 col1\" >0.000000</td>\n",
       "            </tr>\n",
       "            <tr>\n",
       "                        <th id=\"T_a61b1_level0_row4\" class=\"row_heading level0 row4\" >InvoiceDate</th>\n",
       "                        <td id=\"T_a61b1_row4_col0\" class=\"data row4 col0\" >0</td>\n",
       "                        <td id=\"T_a61b1_row4_col1\" class=\"data row4 col1\" >0.000000</td>\n",
       "            </tr>\n",
       "            <tr>\n",
       "                        <th id=\"T_a61b1_level0_row5\" class=\"row_heading level0 row5\" >Price</th>\n",
       "                        <td id=\"T_a61b1_row5_col0\" class=\"data row5 col0\" >0</td>\n",
       "                        <td id=\"T_a61b1_row5_col1\" class=\"data row5 col1\" >0.000000</td>\n",
       "            </tr>\n",
       "            <tr>\n",
       "                        <th id=\"T_a61b1_level0_row6\" class=\"row_heading level0 row6\" >Customer ID</th>\n",
       "                        <td id=\"T_a61b1_row6_col0\" class=\"data row6 col0\" >0</td>\n",
       "                        <td id=\"T_a61b1_row6_col1\" class=\"data row6 col1\" >0.000000</td>\n",
       "            </tr>\n",
       "            <tr>\n",
       "                        <th id=\"T_a61b1_level0_row7\" class=\"row_heading level0 row7\" >Country</th>\n",
       "                        <td id=\"T_a61b1_row7_col0\" class=\"data row7 col0\" >0</td>\n",
       "                        <td id=\"T_a61b1_row7_col1\" class=\"data row7 col1\" >0.000000</td>\n",
       "            </tr>\n",
       "    </tbody></table>"
      ],
      "text/plain": [
       "<pandas.io.formats.style.Styler at 0x7fdad9ae6ca0>"
      ]
     },
     "execution_count": 101,
     "metadata": {},
     "output_type": "execute_result"
    }
   ],
   "source": [
    "df.dropna(axis=0, inplace=True)\n",
    "missing_data = get_missing_data(df)\n",
    "missing_data"
   ]
  },
  {
   "cell_type": "markdown",
   "id": "numerous-conviction",
   "metadata": {},
   "source": [
    "### Lets find and remove the duplicates"
   ]
  },
  {
   "cell_type": "code",
   "execution_count": 102,
   "id": "political-radar",
   "metadata": {
    "ExecuteTime": {
     "end_time": "2021-06-25T08:07:34.013362Z",
     "start_time": "2021-06-25T08:07:33.693891Z"
    }
   },
   "outputs": [
    {
     "data": {
      "text/plain": [
       "5225"
      ]
     },
     "execution_count": 102,
     "metadata": {},
     "output_type": "execute_result"
    }
   ],
   "source": [
    "df.duplicated().sum()"
   ]
  },
  {
   "cell_type": "markdown",
   "id": "amber-geography",
   "metadata": {
    "ExecuteTime": {
     "end_time": "2021-06-20T15:01:35.748158Z",
     "start_time": "2021-06-20T15:01:35.743783Z"
    }
   },
   "source": [
    "### As we can see we have total 5268 duplicate records, its better to remove them"
   ]
  },
  {
   "cell_type": "code",
   "execution_count": 103,
   "id": "utility-chinese",
   "metadata": {
    "ExecuteTime": {
     "end_time": "2021-06-25T08:07:34.674626Z",
     "start_time": "2021-06-25T08:07:34.019442Z"
    }
   },
   "outputs": [
    {
     "data": {
      "text/plain": [
       "(396768, 8)"
      ]
     },
     "execution_count": 103,
     "metadata": {},
     "output_type": "execute_result"
    }
   ],
   "source": [
    "df.drop_duplicates(subset=features, keep=False, inplace=True)\n",
    "df.duplicated().sum()\n",
    "\n",
    "# Lets get dimensions of filtered data\n",
    "df.shape"
   ]
  },
  {
   "cell_type": "code",
   "execution_count": 104,
   "id": "innovative-relationship",
   "metadata": {
    "ExecuteTime": {
     "end_time": "2021-06-25T08:07:34.759880Z",
     "start_time": "2021-06-25T08:07:34.677494Z"
    }
   },
   "outputs": [
    {
     "data": {
      "text/html": [
       "<div>\n",
       "<style scoped>\n",
       "    .dataframe tbody tr th:only-of-type {\n",
       "        vertical-align: middle;\n",
       "    }\n",
       "\n",
       "    .dataframe tbody tr th {\n",
       "        vertical-align: top;\n",
       "    }\n",
       "\n",
       "    .dataframe thead th {\n",
       "        text-align: right;\n",
       "    }\n",
       "</style>\n",
       "<table border=\"1\" class=\"dataframe\">\n",
       "  <thead>\n",
       "    <tr style=\"text-align: right;\">\n",
       "      <th></th>\n",
       "      <th>Quantity</th>\n",
       "      <th>Price</th>\n",
       "      <th>Customer ID</th>\n",
       "    </tr>\n",
       "  </thead>\n",
       "  <tbody>\n",
       "    <tr>\n",
       "      <th>count</th>\n",
       "      <td>396768.000000</td>\n",
       "      <td>396768.000000</td>\n",
       "      <td>396768.000000</td>\n",
       "    </tr>\n",
       "    <tr>\n",
       "      <th>mean</th>\n",
       "      <td>12.298885</td>\n",
       "      <td>3.487089</td>\n",
       "      <td>15275.101976</td>\n",
       "    </tr>\n",
       "    <tr>\n",
       "      <th>std</th>\n",
       "      <td>251.780854</td>\n",
       "      <td>70.187364</td>\n",
       "      <td>1714.404737</td>\n",
       "    </tr>\n",
       "    <tr>\n",
       "      <th>min</th>\n",
       "      <td>-80995.000000</td>\n",
       "      <td>0.000000</td>\n",
       "      <td>12346.000000</td>\n",
       "    </tr>\n",
       "    <tr>\n",
       "      <th>25%</th>\n",
       "      <td>2.000000</td>\n",
       "      <td>1.250000</td>\n",
       "      <td>13919.000000</td>\n",
       "    </tr>\n",
       "    <tr>\n",
       "      <th>50%</th>\n",
       "      <td>5.000000</td>\n",
       "      <td>1.950000</td>\n",
       "      <td>15132.000000</td>\n",
       "    </tr>\n",
       "    <tr>\n",
       "      <th>75%</th>\n",
       "      <td>12.000000</td>\n",
       "      <td>3.750000</td>\n",
       "      <td>16779.000000</td>\n",
       "    </tr>\n",
       "    <tr>\n",
       "      <th>max</th>\n",
       "      <td>80995.000000</td>\n",
       "      <td>38970.000000</td>\n",
       "      <td>18287.000000</td>\n",
       "    </tr>\n",
       "  </tbody>\n",
       "</table>\n",
       "</div>"
      ],
      "text/plain": [
       "            Quantity          Price    Customer ID\n",
       "count  396768.000000  396768.000000  396768.000000\n",
       "mean       12.298885       3.487089   15275.101976\n",
       "std       251.780854      70.187364    1714.404737\n",
       "min    -80995.000000       0.000000   12346.000000\n",
       "25%         2.000000       1.250000   13919.000000\n",
       "50%         5.000000       1.950000   15132.000000\n",
       "75%        12.000000       3.750000   16779.000000\n",
       "max     80995.000000   38970.000000   18287.000000"
      ]
     },
     "execution_count": 104,
     "metadata": {},
     "output_type": "execute_result"
    }
   ],
   "source": [
    "df.describe()"
   ]
  },
  {
   "cell_type": "markdown",
   "id": "apart-pasta",
   "metadata": {},
   "source": [
    "## Observations:\n",
    "### From above stats, minimum amount of quantity ordered is negative which is not possible. So lets make our dataset clean by handling these negative values"
   ]
  },
  {
   "cell_type": "code",
   "execution_count": 105,
   "id": "informational-iraqi",
   "metadata": {
    "ExecuteTime": {
     "end_time": "2021-06-25T08:07:34.926346Z",
     "start_time": "2021-06-25T08:07:34.762394Z"
    }
   },
   "outputs": [
    {
     "data": {
      "text/html": [
       "<div>\n",
       "<style scoped>\n",
       "    .dataframe tbody tr th:only-of-type {\n",
       "        vertical-align: middle;\n",
       "    }\n",
       "\n",
       "    .dataframe tbody tr th {\n",
       "        vertical-align: top;\n",
       "    }\n",
       "\n",
       "    .dataframe thead th {\n",
       "        text-align: right;\n",
       "    }\n",
       "</style>\n",
       "<table border=\"1\" class=\"dataframe\">\n",
       "  <thead>\n",
       "    <tr style=\"text-align: right;\">\n",
       "      <th></th>\n",
       "      <th>Quantity</th>\n",
       "      <th>Price</th>\n",
       "      <th>Customer ID</th>\n",
       "    </tr>\n",
       "  </thead>\n",
       "  <tbody>\n",
       "    <tr>\n",
       "      <th>count</th>\n",
       "      <td>387924.000000</td>\n",
       "      <td>387924.000000</td>\n",
       "      <td>387924.000000</td>\n",
       "    </tr>\n",
       "    <tr>\n",
       "      <th>mean</th>\n",
       "      <td>13.278585</td>\n",
       "      <td>3.134669</td>\n",
       "      <td>15281.614290</td>\n",
       "    </tr>\n",
       "    <tr>\n",
       "      <th>std</th>\n",
       "      <td>182.689972</td>\n",
       "      <td>22.376584</td>\n",
       "      <td>1713.957221</td>\n",
       "    </tr>\n",
       "    <tr>\n",
       "      <th>min</th>\n",
       "      <td>1.000000</td>\n",
       "      <td>0.000000</td>\n",
       "      <td>12346.000000</td>\n",
       "    </tr>\n",
       "    <tr>\n",
       "      <th>25%</th>\n",
       "      <td>2.000000</td>\n",
       "      <td>1.250000</td>\n",
       "      <td>13941.000000</td>\n",
       "    </tr>\n",
       "    <tr>\n",
       "      <th>50%</th>\n",
       "      <td>6.000000</td>\n",
       "      <td>1.950000</td>\n",
       "      <td>15144.000000</td>\n",
       "    </tr>\n",
       "    <tr>\n",
       "      <th>75%</th>\n",
       "      <td>12.000000</td>\n",
       "      <td>3.750000</td>\n",
       "      <td>16788.000000</td>\n",
       "    </tr>\n",
       "    <tr>\n",
       "      <th>max</th>\n",
       "      <td>80995.000000</td>\n",
       "      <td>8142.750000</td>\n",
       "      <td>18287.000000</td>\n",
       "    </tr>\n",
       "  </tbody>\n",
       "</table>\n",
       "</div>"
      ],
      "text/plain": [
       "            Quantity          Price    Customer ID\n",
       "count  387924.000000  387924.000000  387924.000000\n",
       "mean       13.278585       3.134669   15281.614290\n",
       "std       182.689972      22.376584    1713.957221\n",
       "min         1.000000       0.000000   12346.000000\n",
       "25%         2.000000       1.250000   13941.000000\n",
       "50%         6.000000       1.950000   15144.000000\n",
       "75%        12.000000       3.750000   16788.000000\n",
       "max     80995.000000    8142.750000   18287.000000"
      ]
     },
     "execution_count": 105,
     "metadata": {},
     "output_type": "execute_result"
    }
   ],
   "source": [
    "df = df[df[\"Quantity\"] > 0]\n",
    "df.describe()"
   ]
  },
  {
   "cell_type": "code",
   "execution_count": 106,
   "id": "early-sunglasses",
   "metadata": {
    "ExecuteTime": {
     "end_time": "2021-06-25T08:07:34.938210Z",
     "start_time": "2021-06-25T08:07:34.928956Z"
    }
   },
   "outputs": [
    {
     "data": {
      "text/plain": [
       "(387924, 8)"
      ]
     },
     "execution_count": 106,
     "metadata": {},
     "output_type": "execute_result"
    }
   ],
   "source": [
    "df.shape"
   ]
  },
  {
   "cell_type": "markdown",
   "id": "geological-leisure",
   "metadata": {},
   "source": [
    "### Handle canceled transactions"
   ]
  },
  {
   "cell_type": "code",
   "execution_count": 107,
   "id": "spiritual-construction",
   "metadata": {
    "ExecuteTime": {
     "end_time": "2021-06-25T08:07:35.227904Z",
     "start_time": "2021-06-25T08:07:34.943539Z"
    }
   },
   "outputs": [
    {
     "data": {
      "text/html": [
       "<div>\n",
       "<style scoped>\n",
       "    .dataframe tbody tr th:only-of-type {\n",
       "        vertical-align: middle;\n",
       "    }\n",
       "\n",
       "    .dataframe tbody tr th {\n",
       "        vertical-align: top;\n",
       "    }\n",
       "\n",
       "    .dataframe thead th {\n",
       "        text-align: right;\n",
       "    }\n",
       "</style>\n",
       "<table border=\"1\" class=\"dataframe\">\n",
       "  <thead>\n",
       "    <tr style=\"text-align: right;\">\n",
       "      <th></th>\n",
       "      <th>Invoice</th>\n",
       "      <th>StockCode</th>\n",
       "      <th>Description</th>\n",
       "      <th>Quantity</th>\n",
       "      <th>InvoiceDate</th>\n",
       "      <th>Price</th>\n",
       "      <th>Customer ID</th>\n",
       "      <th>Country</th>\n",
       "      <th>Order_Canceled</th>\n",
       "    </tr>\n",
       "  </thead>\n",
       "  <tbody>\n",
       "    <tr>\n",
       "      <th>0</th>\n",
       "      <td>536365</td>\n",
       "      <td>85123A</td>\n",
       "      <td>WHITE HANGING HEART T-LIGHT HOLDER</td>\n",
       "      <td>6</td>\n",
       "      <td>01/12/10 08:26</td>\n",
       "      <td>2.55</td>\n",
       "      <td>17850.0</td>\n",
       "      <td>United Kingdom</td>\n",
       "      <td>0</td>\n",
       "    </tr>\n",
       "    <tr>\n",
       "      <th>1</th>\n",
       "      <td>536365</td>\n",
       "      <td>71053</td>\n",
       "      <td>WHITE METAL LANTERN</td>\n",
       "      <td>6</td>\n",
       "      <td>01/12/10 08:26</td>\n",
       "      <td>3.39</td>\n",
       "      <td>17850.0</td>\n",
       "      <td>United Kingdom</td>\n",
       "      <td>0</td>\n",
       "    </tr>\n",
       "    <tr>\n",
       "      <th>2</th>\n",
       "      <td>536365</td>\n",
       "      <td>84406B</td>\n",
       "      <td>CREAM CUPID HEARTS COAT HANGER</td>\n",
       "      <td>8</td>\n",
       "      <td>01/12/10 08:26</td>\n",
       "      <td>2.75</td>\n",
       "      <td>17850.0</td>\n",
       "      <td>United Kingdom</td>\n",
       "      <td>0</td>\n",
       "    </tr>\n",
       "    <tr>\n",
       "      <th>3</th>\n",
       "      <td>536365</td>\n",
       "      <td>84029G</td>\n",
       "      <td>KNITTED UNION FLAG HOT WATER BOTTLE</td>\n",
       "      <td>6</td>\n",
       "      <td>01/12/10 08:26</td>\n",
       "      <td>3.39</td>\n",
       "      <td>17850.0</td>\n",
       "      <td>United Kingdom</td>\n",
       "      <td>0</td>\n",
       "    </tr>\n",
       "    <tr>\n",
       "      <th>4</th>\n",
       "      <td>536365</td>\n",
       "      <td>84029E</td>\n",
       "      <td>RED WOOLLY HOTTIE WHITE HEART.</td>\n",
       "      <td>6</td>\n",
       "      <td>01/12/10 08:26</td>\n",
       "      <td>3.39</td>\n",
       "      <td>17850.0</td>\n",
       "      <td>United Kingdom</td>\n",
       "      <td>0</td>\n",
       "    </tr>\n",
       "  </tbody>\n",
       "</table>\n",
       "</div>"
      ],
      "text/plain": [
       "  Invoice StockCode                          Description  Quantity  \\\n",
       "0  536365    85123A   WHITE HANGING HEART T-LIGHT HOLDER         6   \n",
       "1  536365     71053                  WHITE METAL LANTERN         6   \n",
       "2  536365    84406B       CREAM CUPID HEARTS COAT HANGER         8   \n",
       "3  536365    84029G  KNITTED UNION FLAG HOT WATER BOTTLE         6   \n",
       "4  536365    84029E       RED WOOLLY HOTTIE WHITE HEART.         6   \n",
       "\n",
       "      InvoiceDate  Price  Customer ID         Country  Order_Canceled  \n",
       "0  01/12/10 08:26   2.55      17850.0  United Kingdom               0  \n",
       "1  01/12/10 08:26   3.39      17850.0  United Kingdom               0  \n",
       "2  01/12/10 08:26   2.75      17850.0  United Kingdom               0  \n",
       "3  01/12/10 08:26   3.39      17850.0  United Kingdom               0  \n",
       "4  01/12/10 08:26   3.39      17850.0  United Kingdom               0  "
      ]
     },
     "execution_count": 107,
     "metadata": {},
     "output_type": "execute_result"
    }
   ],
   "source": [
    "invoices = df['Invoice']\n",
    "x = invoices.str.contains('C', regex=True)\n",
    "x.fillna(0, inplace=True)\n",
    "x = x.astype(int)\n",
    "df['Order_Canceled'] = x\n",
    "df['Order_Canceled'].value_counts()\n",
    "df.reset_index(drop=True,inplace=True)\n",
    "df.head()"
   ]
  },
  {
   "cell_type": "markdown",
   "id": "alone-hungary",
   "metadata": {},
   "source": [
    "# 2. EDA - Exploratory Data Analysis"
   ]
  },
  {
   "cell_type": "markdown",
   "id": "verified-complexity",
   "metadata": {},
   "source": [
    "### Now lets perform the EDA"
   ]
  },
  {
   "cell_type": "markdown",
   "id": "backed-integrity",
   "metadata": {},
   "source": [
    "## 1. How many different transactions, unique customers and different countries are there?"
   ]
  },
  {
   "cell_type": "code",
   "execution_count": 108,
   "id": "understanding-differential",
   "metadata": {
    "ExecuteTime": {
     "end_time": "2021-06-25T08:07:35.440177Z",
     "start_time": "2021-06-25T08:07:35.234774Z"
    },
    "run_control": {
     "marked": false
    }
   },
   "outputs": [
    {
     "data": {
      "text/html": [
       "<style  type=\"text/css\" >\n",
       "#T_fef3b_row0_col1{\n",
       "            background-color:  #d0e2f2;\n",
       "            color:  #000000;\n",
       "        }#T_fef3b_row1_col1{\n",
       "            background-color:  #08306b;\n",
       "            color:  #f1f1f1;\n",
       "        }#T_fef3b_row2_col1{\n",
       "            background-color:  #caddf0;\n",
       "            color:  #000000;\n",
       "        }#T_fef3b_row3_col1{\n",
       "            background-color:  #f7fbff;\n",
       "            color:  #000000;\n",
       "        }</style><table id=\"T_fef3b_\" ><thead>    <tr>        <th class=\"blank level0\" ></th>        <th class=\"col_heading level0 col0\" >Element</th>        <th class=\"col_heading level0 col1\" >Count</th>    </tr></thead><tbody>\n",
       "                <tr>\n",
       "                        <th id=\"T_fef3b_level0_row0\" class=\"row_heading level0 row0\" >0</th>\n",
       "                        <td id=\"T_fef3b_row0_col0\" class=\"data row0 col0\" >Products</td>\n",
       "                        <td id=\"T_fef3b_row0_col1\" class=\"data row0 col1\" >3665</td>\n",
       "            </tr>\n",
       "            <tr>\n",
       "                        <th id=\"T_fef3b_level0_row1\" class=\"row_heading level0 row1\" >1</th>\n",
       "                        <td id=\"T_fef3b_row1_col0\" class=\"data row1 col0\" >Transactions</td>\n",
       "                        <td id=\"T_fef3b_row1_col1\" class=\"data row1 col1\" >18535</td>\n",
       "            </tr>\n",
       "            <tr>\n",
       "                        <th id=\"T_fef3b_level0_row2\" class=\"row_heading level0 row2\" >2</th>\n",
       "                        <td id=\"T_fef3b_row2_col0\" class=\"data row2 col0\" >Customers</td>\n",
       "                        <td id=\"T_fef3b_row2_col1\" class=\"data row2 col1\" >4339</td>\n",
       "            </tr>\n",
       "            <tr>\n",
       "                        <th id=\"T_fef3b_level0_row3\" class=\"row_heading level0 row3\" >3</th>\n",
       "                        <td id=\"T_fef3b_row3_col0\" class=\"data row3 col0\" >Countries</td>\n",
       "                        <td id=\"T_fef3b_row3_col1\" class=\"data row3 col1\" >37</td>\n",
       "            </tr>\n",
       "    </tbody></table>"
      ],
      "text/plain": [
       "<pandas.io.formats.style.Styler at 0x7fdad9ad5670>"
      ]
     },
     "execution_count": 108,
     "metadata": {},
     "output_type": "execute_result"
    }
   ],
   "source": [
    "transactions = len(df[\"Invoice\"].value_counts())\n",
    "customers = len(df[\"Customer ID\"].value_counts())\n",
    "countries = len(df[\"Country\"].value_counts())\n",
    "products = len(df[\"StockCode\"].value_counts())\n",
    "\n",
    "unique_elements = pd.DataFrame([[\"Products\", products], [\"Transactions\", transactions], [\n",
    "                               \"Customers\", customers], [\"Countries\", countries]], columns=[\"Element\", \"Count\"])\n",
    "unique_elements.style.background_gradient(cmap=\"Blues\")\n",
    "\n",
    "# Or using nunique method of pandas\n",
    "# unique_elements=df[[\"Customer ID\",\"Invoice\",\"StockCode\",\"Country\"]].nunique()"
   ]
  },
  {
   "cell_type": "markdown",
   "id": "rotary-think",
   "metadata": {
    "ExecuteTime": {
     "end_time": "2021-06-20T15:38:37.448359Z",
     "start_time": "2021-06-20T15:38:37.443497Z"
    }
   },
   "source": [
    "## Observations:\n",
    "### There are unique:\n",
    "#### 3684 Products\n",
    "#### 22185 Transactions\n",
    "#### 4372 Customers\n",
    "#### 37 Countries\n",
    "### It seems that each product have multiple transactions"
   ]
  },
  {
   "cell_type": "markdown",
   "id": "outside-pizza",
   "metadata": {},
   "source": [
    "### Lets get transactions as per country"
   ]
  },
  {
   "cell_type": "code",
   "execution_count": 109,
   "id": "surprised-whole",
   "metadata": {
    "ExecuteTime": {
     "end_time": "2021-06-25T08:07:35.529112Z",
     "start_time": "2021-06-25T08:07:35.442735Z"
    }
   },
   "outputs": [
    {
     "data": {
      "text/plain": [
       "Country\n",
       "Australia                 1183\n",
       "Austria                    398\n",
       "Bahrain                     17\n",
       "Belgium                   2031\n",
       "Brazil                      32\n",
       "Canada                     151\n",
       "Channel Islands            746\n",
       "Cyprus                     593\n",
       "Czech Republic              25\n",
       "Denmark                    380\n",
       "EIRE                      7218\n",
       "European Community          60\n",
       "Finland                    685\n",
       "France                    8313\n",
       "Germany                   9012\n",
       "Greece                     145\n",
       "Iceland                    182\n",
       "Israel                     242\n",
       "Italy                      758\n",
       "Japan                      321\n",
       "Lebanon                     45\n",
       "Lithuania                   35\n",
       "Malta                      112\n",
       "Netherlands               2363\n",
       "Norway                    1072\n",
       "Poland                     330\n",
       "Portugal                  1445\n",
       "RSA                         58\n",
       "Saudi Arabia                 9\n",
       "Singapore                  222\n",
       "Spain                     2475\n",
       "Sweden                     449\n",
       "Switzerland               1842\n",
       "USA                        179\n",
       "United Arab Emirates        68\n",
       "United Kingdom          344490\n",
       "Unspecified                238\n",
       "Name: Country, dtype: int64"
      ]
     },
     "execution_count": 109,
     "metadata": {},
     "output_type": "execute_result"
    }
   ],
   "source": [
    "countrywise_transactions = df.groupby([\"Country\"])\n",
    "country = list(countrywise_transactions.groups.keys())\n",
    "count = countrywise_transactions[\"Country\"].count()\n",
    "count"
   ]
  },
  {
   "cell_type": "code",
   "execution_count": 110,
   "id": "lyric-bandwidth",
   "metadata": {
    "ExecuteTime": {
     "end_time": "2021-06-25T08:07:36.217084Z",
     "start_time": "2021-06-25T08:07:35.531984Z"
    }
   },
   "outputs": [
    {
     "data": {
      "image/png": "[encoded data removed]",
      "text/plain": [
       "<Figure size 1000x600 with 1 Axes>"
      ]
     },
     "metadata": {},
     "output_type": "display_data"
    }
   ],
   "source": [
    "# plot line graph\n",
    "plt.figure(figsize=(10, 6))\n",
    "plt.plot(country, count,)\n",
    "plt.gca().set(title=\"Number of Total transactions per Country\",\n",
    "              xlabel=\"Country\", ylabel=\"Number of transactions\")\n",
    "plt.xticks(rotation=90, fontsize=13)\n",
    "plt.show()"
   ]
  },
  {
   "cell_type": "markdown",
   "id": "advanced-accreditation",
   "metadata": {},
   "source": [
    "### Lets find number of unique transactions"
   ]
  },
  {
   "cell_type": "code",
   "execution_count": 111,
   "id": "superior-brown",
   "metadata": {
    "ExecuteTime": {
     "end_time": "2021-06-25T08:07:36.407902Z",
     "start_time": "2021-06-25T08:07:36.219539Z"
    }
   },
   "outputs": [
    {
     "data": {
      "text/html": [
       "<style  type=\"text/css\" >\n",
       "#T_d3fd3_row0_col0,#T_d3fd3_row0_col1{\n",
       "            background-color:  #08306b;\n",
       "            color:  #f1f1f1;\n",
       "        }#T_d3fd3_row1_col0,#T_d3fd3_row1_col1{\n",
       "            background-color:  #f2f7fd;\n",
       "            color:  #000000;\n",
       "        }#T_d3fd3_row2_col0,#T_d3fd3_row2_col1{\n",
       "            background-color:  #f3f8fe;\n",
       "            color:  #000000;\n",
       "        }#T_d3fd3_row3_col0,#T_d3fd3_row3_col1{\n",
       "            background-color:  #f5f9fe;\n",
       "            color:  #000000;\n",
       "        }#T_d3fd3_row4_col0,#T_d3fd3_row4_col1,#T_d3fd3_row5_col0,#T_d3fd3_row5_col1,#T_d3fd3_row6_col0,#T_d3fd3_row6_col1{\n",
       "            background-color:  #f6faff;\n",
       "            color:  #000000;\n",
       "        }#T_d3fd3_row7_col0,#T_d3fd3_row7_col1,#T_d3fd3_row8_col0,#T_d3fd3_row8_col1,#T_d3fd3_row9_col0,#T_d3fd3_row9_col1,#T_d3fd3_row10_col0,#T_d3fd3_row10_col1,#T_d3fd3_row11_col0,#T_d3fd3_row11_col1,#T_d3fd3_row12_col0,#T_d3fd3_row12_col1,#T_d3fd3_row13_col0,#T_d3fd3_row13_col1,#T_d3fd3_row14_col0,#T_d3fd3_row14_col1,#T_d3fd3_row15_col0,#T_d3fd3_row15_col1,#T_d3fd3_row16_col0,#T_d3fd3_row16_col1,#T_d3fd3_row17_col0,#T_d3fd3_row17_col1,#T_d3fd3_row18_col0,#T_d3fd3_row18_col1,#T_d3fd3_row19_col0,#T_d3fd3_row19_col1,#T_d3fd3_row20_col0,#T_d3fd3_row20_col1,#T_d3fd3_row21_col0,#T_d3fd3_row21_col1,#T_d3fd3_row22_col0,#T_d3fd3_row22_col1,#T_d3fd3_row23_col0,#T_d3fd3_row23_col1,#T_d3fd3_row24_col0,#T_d3fd3_row24_col1,#T_d3fd3_row25_col0,#T_d3fd3_row25_col1,#T_d3fd3_row26_col0,#T_d3fd3_row26_col1,#T_d3fd3_row27_col0,#T_d3fd3_row27_col1,#T_d3fd3_row28_col0,#T_d3fd3_row28_col1,#T_d3fd3_row29_col0,#T_d3fd3_row29_col1,#T_d3fd3_row30_col0,#T_d3fd3_row30_col1,#T_d3fd3_row31_col0,#T_d3fd3_row31_col1,#T_d3fd3_row32_col0,#T_d3fd3_row32_col1,#T_d3fd3_row33_col0,#T_d3fd3_row33_col1,#T_d3fd3_row34_col0,#T_d3fd3_row34_col1,#T_d3fd3_row35_col0,#T_d3fd3_row35_col1,#T_d3fd3_row36_col0,#T_d3fd3_row36_col1{\n",
       "            background-color:  #f7fbff;\n",
       "            color:  #000000;\n",
       "        }</style><table id=\"T_d3fd3_\" ><thead>    <tr>        <th class=\"blank level0\" ></th>        <th class=\"col_heading level0 col0\" >Count</th>        <th class=\"col_heading level0 col1\" >Percent (%)</th>    </tr>    <tr>        <th class=\"index_name level0\" >Country</th>        <th class=\"blank\" ></th>        <th class=\"blank\" ></th>    </tr></thead><tbody>\n",
       "                <tr>\n",
       "                        <th id=\"T_d3fd3_level0_row0\" class=\"row_heading level0 row0\" >United Kingdom</th>\n",
       "                        <td id=\"T_d3fd3_row0_col0\" class=\"data row0 col0\" >16648</td>\n",
       "                        <td id=\"T_d3fd3_row0_col1\" class=\"data row0 col1\" >89.819261</td>\n",
       "            </tr>\n",
       "            <tr>\n",
       "                        <th id=\"T_d3fd3_level0_row1\" class=\"row_heading level0 row1\" >Germany</th>\n",
       "                        <td id=\"T_d3fd3_row1_col0\" class=\"data row1 col0\" >457</td>\n",
       "                        <td id=\"T_d3fd3_row1_col1\" class=\"data row1 col1\" >2.465606</td>\n",
       "            </tr>\n",
       "            <tr>\n",
       "                        <th id=\"T_d3fd3_level0_row2\" class=\"row_heading level0 row2\" >France</th>\n",
       "                        <td id=\"T_d3fd3_row2_col0\" class=\"data row2 col0\" >389</td>\n",
       "                        <td id=\"T_d3fd3_row2_col1\" class=\"data row2 col1\" >2.098732</td>\n",
       "            </tr>\n",
       "            <tr>\n",
       "                        <th id=\"T_d3fd3_level0_row3\" class=\"row_heading level0 row3\" >EIRE</th>\n",
       "                        <td id=\"T_d3fd3_row3_col0\" class=\"data row3 col0\" >260</td>\n",
       "                        <td id=\"T_d3fd3_row3_col1\" class=\"data row3 col1\" >1.402752</td>\n",
       "            </tr>\n",
       "            <tr>\n",
       "                        <th id=\"T_d3fd3_level0_row4\" class=\"row_heading level0 row4\" >Belgium</th>\n",
       "                        <td id=\"T_d3fd3_row4_col0\" class=\"data row4 col0\" >98</td>\n",
       "                        <td id=\"T_d3fd3_row4_col1\" class=\"data row4 col1\" >0.528729</td>\n",
       "            </tr>\n",
       "            <tr>\n",
       "                        <th id=\"T_d3fd3_level0_row5\" class=\"row_heading level0 row5\" >Netherlands</th>\n",
       "                        <td id=\"T_d3fd3_row5_col0\" class=\"data row5 col0\" >95</td>\n",
       "                        <td id=\"T_d3fd3_row5_col1\" class=\"data row5 col1\" >0.512544</td>\n",
       "            </tr>\n",
       "            <tr>\n",
       "                        <th id=\"T_d3fd3_level0_row6\" class=\"row_heading level0 row6\" >Spain</th>\n",
       "                        <td id=\"T_d3fd3_row6_col0\" class=\"data row6 col0\" >90</td>\n",
       "                        <td id=\"T_d3fd3_row6_col1\" class=\"data row6 col1\" >0.485568</td>\n",
       "            </tr>\n",
       "            <tr>\n",
       "                        <th id=\"T_d3fd3_level0_row7\" class=\"row_heading level0 row7\" >Australia</th>\n",
       "                        <td id=\"T_d3fd3_row7_col0\" class=\"data row7 col0\" >57</td>\n",
       "                        <td id=\"T_d3fd3_row7_col1\" class=\"data row7 col1\" >0.307526</td>\n",
       "            </tr>\n",
       "            <tr>\n",
       "                        <th id=\"T_d3fd3_level0_row8\" class=\"row_heading level0 row8\" >Portugal</th>\n",
       "                        <td id=\"T_d3fd3_row8_col0\" class=\"data row8 col0\" >57</td>\n",
       "                        <td id=\"T_d3fd3_row8_col1\" class=\"data row8 col1\" >0.307526</td>\n",
       "            </tr>\n",
       "            <tr>\n",
       "                        <th id=\"T_d3fd3_level0_row9\" class=\"row_heading level0 row9\" >Switzerland</th>\n",
       "                        <td id=\"T_d3fd3_row9_col0\" class=\"data row9 col0\" >51</td>\n",
       "                        <td id=\"T_d3fd3_row9_col1\" class=\"data row9 col1\" >0.275155</td>\n",
       "            </tr>\n",
       "            <tr>\n",
       "                        <th id=\"T_d3fd3_level0_row10\" class=\"row_heading level0 row10\" >Finland</th>\n",
       "                        <td id=\"T_d3fd3_row10_col0\" class=\"data row10 col0\" >41</td>\n",
       "                        <td id=\"T_d3fd3_row10_col1\" class=\"data row10 col1\" >0.221203</td>\n",
       "            </tr>\n",
       "            <tr>\n",
       "                        <th id=\"T_d3fd3_level0_row11\" class=\"row_heading level0 row11\" >Italy</th>\n",
       "                        <td id=\"T_d3fd3_row11_col0\" class=\"data row11 col0\" >38</td>\n",
       "                        <td id=\"T_d3fd3_row11_col1\" class=\"data row11 col1\" >0.205018</td>\n",
       "            </tr>\n",
       "            <tr>\n",
       "                        <th id=\"T_d3fd3_level0_row12\" class=\"row_heading level0 row12\" >Norway</th>\n",
       "                        <td id=\"T_d3fd3_row12_col0\" class=\"data row12 col0\" >36</td>\n",
       "                        <td id=\"T_d3fd3_row12_col1\" class=\"data row12 col1\" >0.194227</td>\n",
       "            </tr>\n",
       "            <tr>\n",
       "                        <th id=\"T_d3fd3_level0_row13\" class=\"row_heading level0 row13\" >Sweden</th>\n",
       "                        <td id=\"T_d3fd3_row13_col0\" class=\"data row13 col0\" >36</td>\n",
       "                        <td id=\"T_d3fd3_row13_col1\" class=\"data row13 col1\" >0.194227</td>\n",
       "            </tr>\n",
       "            <tr>\n",
       "                        <th id=\"T_d3fd3_level0_row14\" class=\"row_heading level0 row14\" >Channel Islands</th>\n",
       "                        <td id=\"T_d3fd3_row14_col0\" class=\"data row14 col0\" >26</td>\n",
       "                        <td id=\"T_d3fd3_row14_col1\" class=\"data row14 col1\" >0.140275</td>\n",
       "            </tr>\n",
       "            <tr>\n",
       "                        <th id=\"T_d3fd3_level0_row15\" class=\"row_heading level0 row15\" >Poland</th>\n",
       "                        <td id=\"T_d3fd3_row15_col0\" class=\"data row15 col0\" >19</td>\n",
       "                        <td id=\"T_d3fd3_row15_col1\" class=\"data row15 col1\" >0.102509</td>\n",
       "            </tr>\n",
       "            <tr>\n",
       "                        <th id=\"T_d3fd3_level0_row16\" class=\"row_heading level0 row16\" >Japan</th>\n",
       "                        <td id=\"T_d3fd3_row16_col0\" class=\"data row16 col0\" >19</td>\n",
       "                        <td id=\"T_d3fd3_row16_col1\" class=\"data row16 col1\" >0.102509</td>\n",
       "            </tr>\n",
       "            <tr>\n",
       "                        <th id=\"T_d3fd3_level0_row17\" class=\"row_heading level0 row17\" >Denmark</th>\n",
       "                        <td id=\"T_d3fd3_row17_col0\" class=\"data row17 col0\" >18</td>\n",
       "                        <td id=\"T_d3fd3_row17_col1\" class=\"data row17 col1\" >0.097114</td>\n",
       "            </tr>\n",
       "            <tr>\n",
       "                        <th id=\"T_d3fd3_level0_row18\" class=\"row_heading level0 row18\" >Austria</th>\n",
       "                        <td id=\"T_d3fd3_row18_col0\" class=\"data row18 col0\" >17</td>\n",
       "                        <td id=\"T_d3fd3_row18_col1\" class=\"data row18 col1\" >0.091718</td>\n",
       "            </tr>\n",
       "            <tr>\n",
       "                        <th id=\"T_d3fd3_level0_row19\" class=\"row_heading level0 row19\" >Cyprus</th>\n",
       "                        <td id=\"T_d3fd3_row19_col0\" class=\"data row19 col0\" >16</td>\n",
       "                        <td id=\"T_d3fd3_row19_col1\" class=\"data row19 col1\" >0.086323</td>\n",
       "            </tr>\n",
       "            <tr>\n",
       "                        <th id=\"T_d3fd3_level0_row20\" class=\"row_heading level0 row20\" >Unspecified</th>\n",
       "                        <td id=\"T_d3fd3_row20_col0\" class=\"data row20 col0\" >8</td>\n",
       "                        <td id=\"T_d3fd3_row20_col1\" class=\"data row20 col1\" >0.043162</td>\n",
       "            </tr>\n",
       "            <tr>\n",
       "                        <th id=\"T_d3fd3_level0_row21\" class=\"row_heading level0 row21\" >Iceland</th>\n",
       "                        <td id=\"T_d3fd3_row21_col0\" class=\"data row21 col0\" >7</td>\n",
       "                        <td id=\"T_d3fd3_row21_col1\" class=\"data row21 col1\" >0.037766</td>\n",
       "            </tr>\n",
       "            <tr>\n",
       "                        <th id=\"T_d3fd3_level0_row22\" class=\"row_heading level0 row22\" >Singapore</th>\n",
       "                        <td id=\"T_d3fd3_row22_col0\" class=\"data row22 col0\" >7</td>\n",
       "                        <td id=\"T_d3fd3_row22_col1\" class=\"data row22 col1\" >0.037766</td>\n",
       "            </tr>\n",
       "            <tr>\n",
       "                        <th id=\"T_d3fd3_level0_row23\" class=\"row_heading level0 row23\" >Canada</th>\n",
       "                        <td id=\"T_d3fd3_row23_col0\" class=\"data row23 col0\" >6</td>\n",
       "                        <td id=\"T_d3fd3_row23_col1\" class=\"data row23 col1\" >0.032371</td>\n",
       "            </tr>\n",
       "            <tr>\n",
       "                        <th id=\"T_d3fd3_level0_row24\" class=\"row_heading level0 row24\" >Malta</th>\n",
       "                        <td id=\"T_d3fd3_row24_col0\" class=\"data row24 col0\" >5</td>\n",
       "                        <td id=\"T_d3fd3_row24_col1\" class=\"data row24 col1\" >0.026976</td>\n",
       "            </tr>\n",
       "            <tr>\n",
       "                        <th id=\"T_d3fd3_level0_row25\" class=\"row_heading level0 row25\" >Israel</th>\n",
       "                        <td id=\"T_d3fd3_row25_col0\" class=\"data row25 col0\" >5</td>\n",
       "                        <td id=\"T_d3fd3_row25_col1\" class=\"data row25 col1\" >0.026976</td>\n",
       "            </tr>\n",
       "            <tr>\n",
       "                        <th id=\"T_d3fd3_level0_row26\" class=\"row_heading level0 row26\" >Greece</th>\n",
       "                        <td id=\"T_d3fd3_row26_col0\" class=\"data row26 col0\" >5</td>\n",
       "                        <td id=\"T_d3fd3_row26_col1\" class=\"data row26 col1\" >0.026976</td>\n",
       "            </tr>\n",
       "            <tr>\n",
       "                        <th id=\"T_d3fd3_level0_row27\" class=\"row_heading level0 row27\" >USA</th>\n",
       "                        <td id=\"T_d3fd3_row27_col0\" class=\"data row27 col0\" >5</td>\n",
       "                        <td id=\"T_d3fd3_row27_col1\" class=\"data row27 col1\" >0.026976</td>\n",
       "            </tr>\n",
       "            <tr>\n",
       "                        <th id=\"T_d3fd3_level0_row28\" class=\"row_heading level0 row28\" >Lithuania</th>\n",
       "                        <td id=\"T_d3fd3_row28_col0\" class=\"data row28 col0\" >4</td>\n",
       "                        <td id=\"T_d3fd3_row28_col1\" class=\"data row28 col1\" >0.021581</td>\n",
       "            </tr>\n",
       "            <tr>\n",
       "                        <th id=\"T_d3fd3_level0_row29\" class=\"row_heading level0 row29\" >European Community</th>\n",
       "                        <td id=\"T_d3fd3_row29_col0\" class=\"data row29 col0\" >4</td>\n",
       "                        <td id=\"T_d3fd3_row29_col1\" class=\"data row29 col1\" >0.021581</td>\n",
       "            </tr>\n",
       "            <tr>\n",
       "                        <th id=\"T_d3fd3_level0_row30\" class=\"row_heading level0 row30\" >United Arab Emirates</th>\n",
       "                        <td id=\"T_d3fd3_row30_col0\" class=\"data row30 col0\" >3</td>\n",
       "                        <td id=\"T_d3fd3_row30_col1\" class=\"data row30 col1\" >0.016186</td>\n",
       "            </tr>\n",
       "            <tr>\n",
       "                        <th id=\"T_d3fd3_level0_row31\" class=\"row_heading level0 row31\" >Czech Republic</th>\n",
       "                        <td id=\"T_d3fd3_row31_col0\" class=\"data row31 col0\" >2</td>\n",
       "                        <td id=\"T_d3fd3_row31_col1\" class=\"data row31 col1\" >0.010790</td>\n",
       "            </tr>\n",
       "            <tr>\n",
       "                        <th id=\"T_d3fd3_level0_row32\" class=\"row_heading level0 row32\" >Bahrain</th>\n",
       "                        <td id=\"T_d3fd3_row32_col0\" class=\"data row32 col0\" >2</td>\n",
       "                        <td id=\"T_d3fd3_row32_col1\" class=\"data row32 col1\" >0.010790</td>\n",
       "            </tr>\n",
       "            <tr>\n",
       "                        <th id=\"T_d3fd3_level0_row33\" class=\"row_heading level0 row33\" >Lebanon</th>\n",
       "                        <td id=\"T_d3fd3_row33_col0\" class=\"data row33 col0\" >1</td>\n",
       "                        <td id=\"T_d3fd3_row33_col1\" class=\"data row33 col1\" >0.005395</td>\n",
       "            </tr>\n",
       "            <tr>\n",
       "                        <th id=\"T_d3fd3_level0_row34\" class=\"row_heading level0 row34\" >RSA</th>\n",
       "                        <td id=\"T_d3fd3_row34_col0\" class=\"data row34 col0\" >1</td>\n",
       "                        <td id=\"T_d3fd3_row34_col1\" class=\"data row34 col1\" >0.005395</td>\n",
       "            </tr>\n",
       "            <tr>\n",
       "                        <th id=\"T_d3fd3_level0_row35\" class=\"row_heading level0 row35\" >Saudi Arabia</th>\n",
       "                        <td id=\"T_d3fd3_row35_col0\" class=\"data row35 col0\" >1</td>\n",
       "                        <td id=\"T_d3fd3_row35_col1\" class=\"data row35 col1\" >0.005395</td>\n",
       "            </tr>\n",
       "            <tr>\n",
       "                        <th id=\"T_d3fd3_level0_row36\" class=\"row_heading level0 row36\" >Brazil</th>\n",
       "                        <td id=\"T_d3fd3_row36_col0\" class=\"data row36 col0\" >1</td>\n",
       "                        <td id=\"T_d3fd3_row36_col1\" class=\"data row36 col1\" >0.005395</td>\n",
       "            </tr>\n",
       "    </tbody></table>"
      ],
      "text/plain": [
       "<pandas.io.formats.style.Styler at 0x7fdadb9012b0>"
      ]
     },
     "execution_count": 111,
     "metadata": {},
     "output_type": "execute_result"
    }
   ],
   "source": [
    "country = countrywise_transactions.groups.keys()\n",
    "count = countrywise_transactions[\"Invoice\"].nunique()\n",
    "percents = (countrywise_transactions[\"Invoice\"].nunique(\n",
    ")/len(countrywise_transactions[\"Invoice\"].value_counts())*100)\n",
    "\n",
    "unique_countrywise_transactions = pd.concat([count, percents], axis=1,\n",
    "                                            keys=[\"Count\", \"Percent (%)\"]).sort_values(by=\"Percent (%)\", ascending=False).style.background_gradient(cmap=\"Blues\")\n",
    "unique_countrywise_transactions"
   ]
  },
  {
   "cell_type": "code",
   "execution_count": 112,
   "id": "allied-portland",
   "metadata": {
    "ExecuteTime": {
     "end_time": "2021-06-25T08:07:37.712716Z",
     "start_time": "2021-06-25T08:07:36.410194Z"
    }
   },
   "outputs": [
    {
     "data": {
      "image/png": "[encoded data removed]",
      "text/plain": [
       "<Figure size 1000x600 with 1 Axes>"
      ]
     },
     "metadata": {},
     "output_type": "display_data"
    },
    {
     "data": {
      "image/png": "[encoded data removed]",
      "text/plain": [
       "<Figure size 1000x600 with 1 Axes>"
      ]
     },
     "metadata": {},
     "output_type": "display_data"
    }
   ],
   "source": [
    "# plot line graph\n",
    "plt.figure(figsize=(10, 6))\n",
    "plt.plot(country, count)\n",
    "plt.gca().set(title=\"Unique transactions per Country\",\n",
    "              xlabel=\"Country\", ylabel=\"Number of unique trans.\")\n",
    "plt.xticks(rotation=90, fontsize=13)\n",
    "plt.show()\n",
    "\n",
    "plt.figure(figsize=(10, 6))\n",
    "plt.plot(country, percents)\n",
    "plt.gca().set(title=\"Percentage of Unique transactions per Country\",\n",
    "              xlabel=\"Country\", ylabel=\"Percentage of Number of unique trans.\")\n",
    "plt.xticks(rotation=90, fontsize=13)\n",
    "plt.show()"
   ]
  },
  {
   "cell_type": "markdown",
   "id": "amateur-newark",
   "metadata": {},
   "source": [
    "## Observations:\n",
    "### United Kingdom 89 % of unique transactions ( 19852 )\n",
    "### Brazil, Baharin , Lebonan, RSA, Saudi Arabia have made the least number of transactions (1,2, etc)\n",
    "\n",
    "### UK makes almost 90% of orders , no other country makes near to 3%"
   ]
  },
  {
   "cell_type": "markdown",
   "id": "warming-receiver",
   "metadata": {},
   "source": [
    "## As UK makes 89% of orders ,lets take orders from UK and create new dataframe"
   ]
  },
  {
   "cell_type": "code",
   "execution_count": 113,
   "id": "sophisticated-indiana",
   "metadata": {
    "ExecuteTime": {
     "end_time": "2021-06-25T08:07:37.805675Z",
     "start_time": "2021-06-25T08:07:37.719063Z"
    }
   },
   "outputs": [
    {
     "data": {
      "text/plain": [
       "'No of Orders in UK :'"
      ]
     },
     "metadata": {},
     "output_type": "display_data"
    },
    {
     "data": {
      "text/plain": [
       "344490"
      ]
     },
     "metadata": {},
     "output_type": "display_data"
    },
    {
     "data": {
      "text/html": [
       "<div>\n",
       "<style scoped>\n",
       "    .dataframe tbody tr th:only-of-type {\n",
       "        vertical-align: middle;\n",
       "    }\n",
       "\n",
       "    .dataframe tbody tr th {\n",
       "        vertical-align: top;\n",
       "    }\n",
       "\n",
       "    .dataframe thead th {\n",
       "        text-align: right;\n",
       "    }\n",
       "</style>\n",
       "<table border=\"1\" class=\"dataframe\">\n",
       "  <thead>\n",
       "    <tr style=\"text-align: right;\">\n",
       "      <th></th>\n",
       "      <th>Invoice</th>\n",
       "      <th>StockCode</th>\n",
       "      <th>Description</th>\n",
       "      <th>Quantity</th>\n",
       "      <th>InvoiceDate</th>\n",
       "      <th>Price</th>\n",
       "      <th>Customer ID</th>\n",
       "      <th>Country</th>\n",
       "      <th>Order_Canceled</th>\n",
       "    </tr>\n",
       "  </thead>\n",
       "  <tbody>\n",
       "    <tr>\n",
       "      <th>0</th>\n",
       "      <td>536365</td>\n",
       "      <td>85123A</td>\n",
       "      <td>WHITE HANGING HEART T-LIGHT HOLDER</td>\n",
       "      <td>6</td>\n",
       "      <td>01/12/10 08:26</td>\n",
       "      <td>2.55</td>\n",
       "      <td>17850.0</td>\n",
       "      <td>United Kingdom</td>\n",
       "      <td>0</td>\n",
       "    </tr>\n",
       "    <tr>\n",
       "      <th>1</th>\n",
       "      <td>536365</td>\n",
       "      <td>71053</td>\n",
       "      <td>WHITE METAL LANTERN</td>\n",
       "      <td>6</td>\n",
       "      <td>01/12/10 08:26</td>\n",
       "      <td>3.39</td>\n",
       "      <td>17850.0</td>\n",
       "      <td>United Kingdom</td>\n",
       "      <td>0</td>\n",
       "    </tr>\n",
       "    <tr>\n",
       "      <th>2</th>\n",
       "      <td>536365</td>\n",
       "      <td>84406B</td>\n",
       "      <td>CREAM CUPID HEARTS COAT HANGER</td>\n",
       "      <td>8</td>\n",
       "      <td>01/12/10 08:26</td>\n",
       "      <td>2.75</td>\n",
       "      <td>17850.0</td>\n",
       "      <td>United Kingdom</td>\n",
       "      <td>0</td>\n",
       "    </tr>\n",
       "  </tbody>\n",
       "</table>\n",
       "</div>"
      ],
      "text/plain": [
       "  Invoice StockCode                         Description  Quantity  \\\n",
       "0  536365    85123A  WHITE HANGING HEART T-LIGHT HOLDER         6   \n",
       "1  536365     71053                 WHITE METAL LANTERN         6   \n",
       "2  536365    84406B      CREAM CUPID HEARTS COAT HANGER         8   \n",
       "\n",
       "      InvoiceDate  Price  Customer ID         Country  Order_Canceled  \n",
       "0  01/12/10 08:26   2.55      17850.0  United Kingdom               0  \n",
       "1  01/12/10 08:26   3.39      17850.0  United Kingdom               0  \n",
       "2  01/12/10 08:26   2.75      17850.0  United Kingdom               0  "
      ]
     },
     "execution_count": 113,
     "metadata": {},
     "output_type": "execute_result"
    }
   ],
   "source": [
    "df_UK = df[df[\"Country\"] == \"United Kingdom\"]\n",
    "display(\"No of Orders in UK :\", df_UK.shape[0])\n",
    "df_UK.head(3)"
   ]
  },
  {
   "cell_type": "markdown",
   "id": "hearing-agent",
   "metadata": {},
   "source": [
    "## Unique customers and  products in UK "
   ]
  },
  {
   "cell_type": "code",
   "execution_count": 114,
   "id": "medium-split",
   "metadata": {
    "ExecuteTime": {
     "end_time": "2021-06-25T08:07:38.008560Z",
     "start_time": "2021-06-25T08:07:37.810565Z"
    }
   },
   "outputs": [
    {
     "data": {
      "text/plain": [
       "Customer ID     3921\n",
       "Invoice        16648\n",
       "StockCode       3645\n",
       "dtype: int64"
      ]
     },
     "execution_count": 114,
     "metadata": {},
     "output_type": "execute_result"
    }
   ],
   "source": [
    "unique_UK = df_UK[[\"Customer ID\", \"Invoice\", \"StockCode\"]].nunique()\n",
    "unique_UK"
   ]
  },
  {
   "cell_type": "markdown",
   "id": "specialized-kernel",
   "metadata": {},
   "source": [
    "## Observations:\n",
    "### For UK \n",
    "#### there are 3950 unique customers\n",
    "#### 3661  unique products were ordered by UK people\n",
    "### Multiple transactions exist for each product , some of the transactions may have been canceled."
   ]
  },
  {
   "cell_type": "markdown",
   "id": "naked-introduction",
   "metadata": {
    "ExecuteTime": {
     "end_time": "2021-06-21T07:40:32.142020Z",
     "start_time": "2021-06-21T07:40:32.139217Z"
    }
   },
   "source": [
    "## Summary Statistics"
   ]
  },
  {
   "cell_type": "code",
   "execution_count": 115,
   "id": "later-central",
   "metadata": {
    "ExecuteTime": {
     "end_time": "2021-06-25T08:07:38.093974Z",
     "start_time": "2021-06-25T08:07:38.010772Z"
    }
   },
   "outputs": [
    {
     "data": {
      "text/html": [
       "<div>\n",
       "<style scoped>\n",
       "    .dataframe tbody tr th:only-of-type {\n",
       "        vertical-align: middle;\n",
       "    }\n",
       "\n",
       "    .dataframe tbody tr th {\n",
       "        vertical-align: top;\n",
       "    }\n",
       "\n",
       "    .dataframe thead th {\n",
       "        text-align: right;\n",
       "    }\n",
       "</style>\n",
       "<table border=\"1\" class=\"dataframe\">\n",
       "  <thead>\n",
       "    <tr style=\"text-align: right;\">\n",
       "      <th></th>\n",
       "      <th>Quantity</th>\n",
       "      <th>Price</th>\n",
       "      <th>Customer ID</th>\n",
       "      <th>Order_Canceled</th>\n",
       "    </tr>\n",
       "  </thead>\n",
       "  <tbody>\n",
       "    <tr>\n",
       "      <th>count</th>\n",
       "      <td>344490.000000</td>\n",
       "      <td>344490.000000</td>\n",
       "      <td>344490.000000</td>\n",
       "      <td>344490.0</td>\n",
       "    </tr>\n",
       "    <tr>\n",
       "      <th>mean</th>\n",
       "      <td>12.306903</td>\n",
       "      <td>2.980153</td>\n",
       "      <td>15544.557584</td>\n",
       "      <td>0.0</td>\n",
       "    </tr>\n",
       "    <tr>\n",
       "      <th>std</th>\n",
       "      <td>193.090805</td>\n",
       "      <td>18.111522</td>\n",
       "      <td>1594.281483</td>\n",
       "      <td>0.0</td>\n",
       "    </tr>\n",
       "    <tr>\n",
       "      <th>min</th>\n",
       "      <td>1.000000</td>\n",
       "      <td>0.000000</td>\n",
       "      <td>12346.000000</td>\n",
       "      <td>0.0</td>\n",
       "    </tr>\n",
       "    <tr>\n",
       "      <th>25%</th>\n",
       "      <td>2.000000</td>\n",
       "      <td>1.250000</td>\n",
       "      <td>14189.000000</td>\n",
       "      <td>0.0</td>\n",
       "    </tr>\n",
       "    <tr>\n",
       "      <th>50%</th>\n",
       "      <td>5.000000</td>\n",
       "      <td>1.950000</td>\n",
       "      <td>15513.000000</td>\n",
       "      <td>0.0</td>\n",
       "    </tr>\n",
       "    <tr>\n",
       "      <th>75%</th>\n",
       "      <td>12.000000</td>\n",
       "      <td>3.750000</td>\n",
       "      <td>16931.000000</td>\n",
       "      <td>0.0</td>\n",
       "    </tr>\n",
       "    <tr>\n",
       "      <th>max</th>\n",
       "      <td>80995.000000</td>\n",
       "      <td>8142.750000</td>\n",
       "      <td>18287.000000</td>\n",
       "      <td>0.0</td>\n",
       "    </tr>\n",
       "  </tbody>\n",
       "</table>\n",
       "</div>"
      ],
      "text/plain": [
       "            Quantity          Price    Customer ID  Order_Canceled\n",
       "count  344490.000000  344490.000000  344490.000000        344490.0\n",
       "mean       12.306903       2.980153   15544.557584             0.0\n",
       "std       193.090805      18.111522    1594.281483             0.0\n",
       "min         1.000000       0.000000   12346.000000             0.0\n",
       "25%         2.000000       1.250000   14189.000000             0.0\n",
       "50%         5.000000       1.950000   15513.000000             0.0\n",
       "75%        12.000000       3.750000   16931.000000             0.0\n",
       "max     80995.000000    8142.750000   18287.000000             0.0"
      ]
     },
     "execution_count": 115,
     "metadata": {},
     "output_type": "execute_result"
    }
   ],
   "source": [
    "df_UK.describe()"
   ]
  },
  {
   "cell_type": "markdown",
   "id": "bacterial-contrast",
   "metadata": {
    "ExecuteTime": {
     "end_time": "2021-06-25T07:25:56.073989Z",
     "start_time": "2021-06-25T07:25:56.065740Z"
    }
   },
   "source": [
    "### Save data to csv file for further analysis"
   ]
  },
  {
   "cell_type": "code",
   "execution_count": 116,
   "id": "regulation-notice",
   "metadata": {
    "ExecuteTime": {
     "end_time": "2021-06-25T08:07:40.325635Z",
     "start_time": "2021-06-25T08:07:38.096994Z"
    }
   },
   "outputs": [],
   "source": [
    "df_UK.drop(\"Order_Canceled\",axis=1,inplace=True)\n",
    "df_UK.to_csv(\"dataUK.csv\",index=False)"
   ]
  },
  {
   "cell_type": "code",
   "execution_count": 117,
   "id": "biological-second",
   "metadata": {
    "ExecuteTime": {
     "end_time": "2021-06-25T08:07:40.439884Z",
     "start_time": "2021-06-25T08:07:40.327626Z"
    }
   },
   "outputs": [],
   "source": [
    "df_UK_single_transaction = df_UK.groupby(\n",
    "    [\"Customer ID\", \"Invoice\"], as_index=False)[\"InvoiceDate\"].count()\n",
    "df_UK_single_transaction = df_UK_single_transaction.rename(\n",
    "    columns={'InvoiceDate': 'Number of Products'})"
   ]
  },
  {
   "cell_type": "code",
   "execution_count": 118,
   "id": "optional-cause",
   "metadata": {
    "ExecuteTime": {
     "end_time": "2021-06-25T08:07:40.622971Z",
     "start_time": "2021-06-25T08:07:40.448123Z"
    }
   },
   "outputs": [
    {
     "data": {
      "text/html": [
       "<div>\n",
       "<style scoped>\n",
       "    .dataframe tbody tr th:only-of-type {\n",
       "        vertical-align: middle;\n",
       "    }\n",
       "\n",
       "    .dataframe tbody tr th {\n",
       "        vertical-align: top;\n",
       "    }\n",
       "\n",
       "    .dataframe thead th {\n",
       "        text-align: right;\n",
       "    }\n",
       "</style>\n",
       "<table border=\"1\" class=\"dataframe\">\n",
       "  <thead>\n",
       "    <tr style=\"text-align: right;\">\n",
       "      <th></th>\n",
       "      <th>Customer ID</th>\n",
       "      <th>Invoice</th>\n",
       "      <th>Number of Products</th>\n",
       "    </tr>\n",
       "  </thead>\n",
       "  <tbody>\n",
       "    <tr>\n",
       "      <th>0</th>\n",
       "      <td>12346.0</td>\n",
       "      <td>541431</td>\n",
       "      <td>1</td>\n",
       "    </tr>\n",
       "    <tr>\n",
       "      <th>1</th>\n",
       "      <td>12747.0</td>\n",
       "      <td>537215</td>\n",
       "      <td>7</td>\n",
       "    </tr>\n",
       "    <tr>\n",
       "      <th>2</th>\n",
       "      <td>12747.0</td>\n",
       "      <td>538537</td>\n",
       "      <td>8</td>\n",
       "    </tr>\n",
       "    <tr>\n",
       "      <th>3</th>\n",
       "      <td>12747.0</td>\n",
       "      <td>541677</td>\n",
       "      <td>5</td>\n",
       "    </tr>\n",
       "    <tr>\n",
       "      <th>4</th>\n",
       "      <td>12747.0</td>\n",
       "      <td>545321</td>\n",
       "      <td>12</td>\n",
       "    </tr>\n",
       "    <tr>\n",
       "      <th>...</th>\n",
       "      <td>...</td>\n",
       "      <td>...</td>\n",
       "      <td>...</td>\n",
       "    </tr>\n",
       "    <tr>\n",
       "      <th>16643</th>\n",
       "      <td>18283.0</td>\n",
       "      <td>579673</td>\n",
       "      <td>49</td>\n",
       "    </tr>\n",
       "    <tr>\n",
       "      <th>16644</th>\n",
       "      <td>18283.0</td>\n",
       "      <td>580872</td>\n",
       "      <td>50</td>\n",
       "    </tr>\n",
       "    <tr>\n",
       "      <th>16645</th>\n",
       "      <td>18287.0</td>\n",
       "      <td>554065</td>\n",
       "      <td>29</td>\n",
       "    </tr>\n",
       "    <tr>\n",
       "      <th>16646</th>\n",
       "      <td>18287.0</td>\n",
       "      <td>570715</td>\n",
       "      <td>38</td>\n",
       "    </tr>\n",
       "    <tr>\n",
       "      <th>16647</th>\n",
       "      <td>18287.0</td>\n",
       "      <td>573167</td>\n",
       "      <td>3</td>\n",
       "    </tr>\n",
       "  </tbody>\n",
       "</table>\n",
       "<p>16648 rows × 3 columns</p>\n",
       "</div>"
      ],
      "text/plain": [
       "       Customer ID Invoice  Number of Products\n",
       "0          12346.0  541431                   1\n",
       "1          12747.0  537215                   7\n",
       "2          12747.0  538537                   8\n",
       "3          12747.0  541677                   5\n",
       "4          12747.0  545321                  12\n",
       "...            ...     ...                 ...\n",
       "16643      18283.0  579673                  49\n",
       "16644      18283.0  580872                  50\n",
       "16645      18287.0  554065                  29\n",
       "16646      18287.0  570715                  38\n",
       "16647      18287.0  573167                   3\n",
       "\n",
       "[16648 rows x 3 columns]"
      ]
     },
     "execution_count": 118,
     "metadata": {},
     "output_type": "execute_result"
    }
   ],
   "source": [
    "df_UK_single_transaction"
   ]
  },
  {
   "cell_type": "code",
   "execution_count": null,
   "id": "sudden-symbol",
   "metadata": {},
   "outputs": [],
   "source": []
  }
 ],
 "metadata": {
  "kernelspec": {
   "display_name": "Python 3",
   "language": "python",
   "name": "python3"
  },
  "language_info": {
   "codemirror_mode": {
    "name": "ipython",
    "version": 3
   },
   "file_extension": ".py",
   "mimetype": "text/x-python",
   "name": "python",
   "nbconvert_exporter": "python",
   "pygments_lexer": "ipython3",
   "version": "3.8.5"
  },
  "varInspector": {
   "cols": {
    "lenName": 16,
    "lenType": 16,
    "lenVar": 40
   },
   "kernels_config": {
    "python": {
     "delete_cmd_postfix": "",
     "delete_cmd_prefix": "del ",
     "library": "var_list.py",
     "varRefreshCmd": "print(var_dic_list())"
    },
    "r": {
     "delete_cmd_postfix": ") ",
     "delete_cmd_prefix": "rm(",
     "library": "var_list.r",
     "varRefreshCmd": "cat(var_dic_list()) "
    }
   },
   "types_to_exclude": [
    "module",
    "function",
    "builtin_function_or_method",
    "instance",
    "_Feature"
   ],
   "window_display": false
  }
 },
 "nbformat": 4,
 "nbformat_minor": 5
}
